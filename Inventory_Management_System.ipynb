{
  "nbformat": 4,
  "nbformat_minor": 0,
  "metadata": {
    "colab": {
      "name": "Inventory Management System.ipynb",
      "provenance": []
    },
    "kernelspec": {
      "name": "python3",
      "display_name": "Python 3"
    },
    "language_info": {
      "name": "python"
    }
  },
  "cells": [
    {
      "cell_type": "markdown",
      "metadata": {
        "id": "z7AJuDGJmoRa"
      },
      "source": [
        "# Name - Kuber Arale\n",
        "# Assignment - Inventory Management System\n",
        "# College - National Institute of Technology,Patna "
      ]
    },
    {
      "cell_type": "markdown",
      "metadata": {
        "id": "vquHS51SYZlK"
      },
      "source": [
        "## Read Data From JSON \n"
      ]
    },
    {
      "cell_type": "code",
      "metadata": {
        "id": "x12Fld3DXQ3R"
      },
      "source": [
        "import json\n",
        "\n",
        "fd = open(\"record.json\",'r')\n",
        "r = fd.read()\n",
        "fd.close()\n",
        "\n",
        "record = json.loads(r)"
      ],
      "execution_count": 6,
      "outputs": []
    },
    {
      "cell_type": "code",
      "metadata": {
        "colab": {
          "base_uri": "https://localhost:8080/"
        },
        "id": "sT_Fn5ojX2l2",
        "outputId": "a3c75217-9f20-4659-edf7-b10a8731a83a"
      },
      "source": [
        "record"
      ],
      "execution_count": 7,
      "outputs": [
        {
          "output_type": "execute_result",
          "data": {
            "text/plain": [
              "{'1001': {'name': 'Choco Cake', 'pr': 100, 'qn': 34},\n",
              " '1002': {'name': 'Milk Cake', 'pr': 800, 'qn': 100},\n",
              " '1003': {'name': 'Drink', 'pr': 85, 'qn': 100},\n",
              " '1004': {'name': 'Candy', 'pr': 5, 'qn': 1000},\n",
              " '1005': {'name': 'Pen', 'pr': 20, 'qn': 100},\n",
              " '1006': {'name': 'Phone', 'pr': 50000, 'qn': 10},\n",
              " '1007': {'name': 'Mic', 'pr': 1500, 'qn': 0},\n",
              " '1008': {'name': 'Case', 'pr': 599, 'qn': 5},\n",
              " '1009': {'name': 'Keyboard', 'pr': 1999, 'qn': 10}}"
            ]
          },
          "metadata": {},
          "execution_count": 7
        }
      ]
    },
    {
      "cell_type": "markdown",
      "metadata": {
        "id": "M4ShazvuaTAc"
      },
      "source": [
        "## Add Item to inventory"
      ]
    },
    {
      "cell_type": "code",
      "metadata": {
        "colab": {
          "base_uri": "https://localhost:8080/"
        },
        "id": "aLAoYLd0X_Zs",
        "outputId": "d69f44e0-2a78-4233-f20d-a676b049608e"
      },
      "source": [
        "prod_id = str(input(\"Enter product id:\"))\n",
        "name = str(input(\"Enter name:\"))\n",
        "pr = int(input(\"Enter price:\"))\n",
        "qn = int(input(\"Enter quantity:\"))\n",
        "\n",
        "record[prod_id] = {'name': name, 'pr': pr, 'qn': qn}\n",
        "\n",
        "js = json.dumps(record)\n",
        "\n",
        "fd = open(\"record.json\",'w')\n",
        "fd.write(js)\n",
        "fd.close()"
      ],
      "execution_count": 20,
      "outputs": [
        {
          "name": "stdout",
          "output_type": "stream",
          "text": [
            "Enter product id:1016\n",
            "Enter name:sprite\n",
            "Enter price:15\n",
            "Enter quantity:25\n"
          ]
        }
      ]
    },
    {
      "cell_type": "code",
      "metadata": {
        "colab": {
          "base_uri": "https://localhost:8080/"
        },
        "id": "bkjtVmS_aMtJ",
        "outputId": "9495a194-9261-4534-b8d9-53e702b55f7a"
      },
      "source": [
        "record"
      ],
      "execution_count": 21,
      "outputs": [
        {
          "output_type": "execute_result",
          "data": {
            "text/plain": [
              "{'1001': {'name': 'Choco Cake', 'pr': 100, 'qn': 34},\n",
              " '1002': {'name': 'Milk Cake', 'pr': 800, 'qn': 100},\n",
              " '1003': {'name': 'Drink', 'pr': 85, 'qn': 100},\n",
              " '1004': {'name': 'Candy', 'pr': 5, 'qn': 1000},\n",
              " '1006': {'name': 'Phone', 'pr': 50000, 'qn': 10},\n",
              " '1007': {'name': 'Mic', 'pr': 1500, 'qn': 0},\n",
              " '1008': {'name': 'Case', 'pr': 599, 'qn': 5},\n",
              " '1009': {'name': 'Keyboard', 'pr': 1999, 'qn': 10},\n",
              " '1010': {'name': 'Gulabjamun', 'pr': 250, 'qn': 100},\n",
              " '1011': {'name': 'Pencil', 'pr': 5, 'qn': 200},\n",
              " '1012': {'name': 'Pedha', 'pr': 100, 'qn': 120},\n",
              " '1013': {'name': 'lassi', 'pr': 30, 'qn': 14},\n",
              " '1014': {'name': 'mazaa', 'pr': 15, 'qn': 15},\n",
              " '1015': {'name': 'Coca cola', 'pr': 50, 'qn': 20},\n",
              " '1016': {'name': 'sprite', 'pr': 15, 'qn': 25}}"
            ]
          },
          "metadata": {},
          "execution_count": 21
        }
      ]
    },
    {
      "cell_type": "code",
      "metadata": {
        "id": "yw2bKmUIbUzB"
      },
      "source": [
        "del record['1005']"
      ],
      "execution_count": 10,
      "outputs": []
    },
    {
      "cell_type": "code",
      "metadata": {
        "colab": {
          "base_uri": "https://localhost:8080/"
        },
        "id": "s3GuRUjXbhwg",
        "outputId": "f6c81541-b845-40d4-ec15-1965532c9d92"
      },
      "source": [
        "record"
      ],
      "execution_count": 11,
      "outputs": [
        {
          "output_type": "execute_result",
          "data": {
            "text/plain": [
              "{'1001': {'name': 'Choco Cake', 'pr': 100, 'qn': 34},\n",
              " '1002': {'name': 'Milk Cake', 'pr': 800, 'qn': 100},\n",
              " '1003': {'name': 'Drink', 'pr': 85, 'qn': 100},\n",
              " '1004': {'name': 'Candy', 'pr': 5, 'qn': 1000},\n",
              " '1006': {'name': 'Phone', 'pr': 50000, 'qn': 10},\n",
              " '1007': {'name': 'Mic', 'pr': 1500, 'qn': 0},\n",
              " '1008': {'name': 'Case', 'pr': 599, 'qn': 5},\n",
              " '1009': {'name': 'Keyboard', 'pr': 1999, 'qn': 10},\n",
              " '1010': {'name': 'Gulabjamun', 'pr': 250, 'qn': 100}}"
            ]
          },
          "metadata": {},
          "execution_count": 11
        }
      ]
    },
    {
      "cell_type": "markdown",
      "metadata": {
        "id": "tlDfOCOed8TI"
      },
      "source": [
        "## Purchase"
      ]
    },
    {
      "cell_type": "code",
      "metadata": {
        "colab": {
          "base_uri": "https://localhost:8080/"
        },
        "id": "eZzvFpzubmJe",
        "outputId": "f1c83788-a994-4d13-a79b-72c0111779e8"
      },
      "source": [
        "import time\n",
        "ui_prod  = str(input(\"Enter the product_Id: \"))\n",
        "ui_quant = int(input(\"Enter the quantity: \"))\n",
        "\n",
        "\n",
        "print(\"Product: \", record[ui_prod]['name'])\n",
        "print(\"Price: \", record[ui_prod]['pr'])\n",
        "print(\"Billing Amount: \", record[ui_prod]['pr'] * ui_quant,\"at\",time.ctime())\n",
        "\n",
        "record[ui_prod]['qn'] = record[ui_prod]['qn'] - ui_quant"
      ],
      "execution_count": 69,
      "outputs": [
        {
          "output_type": "stream",
          "name": "stdout",
          "text": [
            "Enter the product_Id: 1008\n",
            "Enter the quantity: 1\n",
            "Product:  Case\n",
            "Price:  599\n",
            "Billing Amount:  599 at Sun Sep  5 15:33:19 2021\n"
          ]
        }
      ]
    },
    {
      "cell_type": "markdown",
      "metadata": {
        "id": "hpWIUPj5epyt"
      },
      "source": [
        "## Update Inventory after purchase"
      ]
    },
    {
      "cell_type": "code",
      "metadata": {
        "id": "pjSKS5J6ejpK"
      },
      "source": [
        "js = json.dumps(record)\n",
        "\n",
        "fd = open(\"record.json\",'w')\n",
        "fd.write(js)\n",
        "fd.close()"
      ],
      "execution_count": 70,
      "outputs": []
    },
    {
      "cell_type": "code",
      "metadata": {
        "colab": {
          "base_uri": "https://localhost:8080/"
        },
        "id": "V6RKviC9e1wQ",
        "outputId": "b93298e9-c81a-42ee-bffa-342c20dea1dd"
      },
      "source": [
        "record"
      ],
      "execution_count": 71,
      "outputs": [
        {
          "output_type": "execute_result",
          "data": {
            "text/plain": [
              "{'1001': {'name': 'Choco Cake', 'pr': 100, 'qn': 34},\n",
              " '1002': {'name': 'Milk Cake', 'pr': 800, 'qn': 99},\n",
              " '1003': {'name': 'Drink', 'pr': 85, 'qn': 98},\n",
              " '1004': {'name': 'Candy', 'pr': 5, 'qn': 1000},\n",
              " '1006': {'name': 'Phone', 'pr': 50000, 'qn': 9},\n",
              " '1007': {'name': 'Mic', 'pr': 1500, 'qn': 0},\n",
              " '1008': {'name': 'Case', 'pr': 599, 'qn': 4},\n",
              " '1009': {'name': 'Keyboard', 'pr': 1999, 'qn': 9},\n",
              " '1010': {'name': 'Gulabjamun', 'pr': 250, 'qn': 90},\n",
              " '1011': {'name': 'Pencil', 'pr': 5, 'qn': 200},\n",
              " '1012': {'name': 'Pedha', 'pr': 100, 'qn': 120},\n",
              " '1013': {'name': 'lassi', 'pr': 30, 'qn': 14},\n",
              " '1014': {'name': 'mazaa', 'pr': 15, 'qn': 13},\n",
              " '1015': {'name': 'Coca cola', 'pr': 50, 'qn': 17},\n",
              " '1016': {'name': 'sprite', 'pr': 15, 'qn': 25}}"
            ]
          },
          "metadata": {},
          "execution_count": 71
        }
      ]
    },
    {
      "cell_type": "markdown",
      "metadata": {
        "id": "2SO6uiR_fehk"
      },
      "source": [
        "## Sales JSON"
      ]
    },
    {
      "cell_type": "code",
      "metadata": {
        "id": "q_Yr5XwxfGYY"
      },
      "source": [
        "sale={'prod' : ui_prod, 'qn' : ui_quant, 'amount': record[ui_prod]['pr'] * ui_quant}"
      ],
      "execution_count": 72,
      "outputs": []
    },
    {
      "cell_type": "code",
      "metadata": {
        "colab": {
          "base_uri": "https://localhost:8080/"
        },
        "id": "lXWm6XJfirHN",
        "outputId": "4de07658-8963-4b62-a27f-ec113da404c5"
      },
      "source": [
        "sale"
      ],
      "execution_count": 73,
      "outputs": [
        {
          "output_type": "execute_result",
          "data": {
            "text/plain": [
              "{'amount': 599, 'prod': '1008', 'qn': 1}"
            ]
          },
          "metadata": {},
          "execution_count": 73
        }
      ]
    },
    {
      "cell_type": "code",
      "metadata": {
        "id": "aQEq0uUtitfC"
      },
      "source": [
        "sales = json.dumps(sale)\n",
        "\n",
        "fd = open(\"sales.json\",'a')\n",
        "fd.write(sales)\n",
        "fd.close()"
      ],
      "execution_count": 74,
      "outputs": []
    },
    {
      "cell_type": "code",
      "metadata": {
        "colab": {
          "base_uri": "https://localhost:8080/",
          "height": 35
        },
        "id": "-MwMaNUQjL8m",
        "outputId": "58a2d93c-3a14-4efd-c2df-e519081b05cb"
      },
      "source": [
        "sales"
      ],
      "execution_count": 75,
      "outputs": [
        {
          "output_type": "execute_result",
          "data": {
            "application/vnd.google.colaboratory.intrinsic+json": {
              "type": "string"
            },
            "text/plain": [
              "'{\"prod\": \"1008\", \"qn\": 1, \"amount\": 599}'"
            ]
          },
          "metadata": {},
          "execution_count": 75
        }
      ]
    }
  ]
}